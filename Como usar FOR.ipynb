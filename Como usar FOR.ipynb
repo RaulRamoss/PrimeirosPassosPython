{
 "cells": [
  {
   "cell_type": "markdown",
   "id": "60255883",
   "metadata": {},
   "source": [
    "# Estrutura de Repetição FOR\n",
    "\n",
    "### Funcionamento:"
   ]
  },
  {
   "cell_type": "markdown",
   "id": "cd088fdd",
   "metadata": {},
   "source": [
    "for i in range(n):\n",
    "    repetir código n vezes"
   ]
  },
  {
   "cell_type": "code",
   "execution_count": 2,
   "id": "b0c324fb",
   "metadata": {},
   "outputs": [
    {
     "name": "stdout",
     "output_type": "stream",
     "text": [
      "0\n",
      "1\n",
      "2\n",
      "3\n",
      "4\n"
     ]
    }
   ],
   "source": [
    "for i in range(5):\n",
    "    print(i)"
   ]
  },
  {
   "cell_type": "markdown",
   "id": "60162148",
   "metadata": {},
   "source": [
    "- Imagine que você está construindo uma automação para enviar todo dia por e-mail um resumo da produção de uma fábrica. Construa um código que exiba a quantidade produzida de cada os produto nesse \"e-mail\""
   ]
  },
  {
   "cell_type": "code",
   "execution_count": 7,
   "id": "74613148",
   "metadata": {},
   "outputs": [
    {
     "name": "stdout",
     "output_type": "stream",
     "text": [
      "Produto: coca\n",
      "Produção: 15000\n",
      "\n",
      "Produto: pepsi\n",
      "Produção: 12000\n",
      "\n",
      "Produto: guarana\n",
      "Produção: 13000\n",
      "\n",
      "Produto: sprite\n",
      "Produção: 5000\n",
      "\n",
      "Produto: fanta\n",
      "Produção: 250\n",
      "\n"
     ]
    }
   ],
   "source": [
    "produtos=['coca','pepsi','guarana','sprite','fanta']\n",
    "producao=[15000,12000,13000,5000,250]\n",
    "\n",
    "tamanho_lista=len(produtos)\n",
    "\n",
    "for i in range(tamanho_lista):\n",
    "    print('Produto:', produtos[i])\n",
    "    print('Produção:',  producao[i])\n",
    "    print('')"
   ]
  },
  {
   "cell_type": "code",
   "execution_count": 10,
   "id": "c26b8581",
   "metadata": {},
   "outputs": [
    {
     "name": "stdout",
     "output_type": "stream",
     "text": [
      "coca\n",
      "pepsi\n",
      "guarana\n",
      "sprite\n",
      "fanta\n"
     ]
    }
   ],
   "source": [
    "for teste in produtos:\n",
    "    print(teste)"
   ]
  },
  {
   "cell_type": "code",
   "execution_count": 11,
   "id": "31201b61",
   "metadata": {},
   "outputs": [
    {
     "name": "stdout",
     "output_type": "stream",
     "text": [
      "l\n",
      "i\n",
      "r\n",
      "a\n",
      "@\n",
      "g\n",
      "m\n",
      "a\n",
      "i\n",
      "l\n",
      ".\n",
      "c\n",
      "o\n",
      "m\n"
     ]
    }
   ],
   "source": [
    "texto='lira@gmail.com'\n",
    "for ch in texto:\n",
    "    print(ch)"
   ]
  }
 ],
 "metadata": {
  "kernelspec": {
   "display_name": "Python 3 (ipykernel)",
   "language": "python",
   "name": "python3"
  },
  "language_info": {
   "codemirror_mode": {
    "name": "ipython",
    "version": 3
   },
   "file_extension": ".py",
   "mimetype": "text/x-python",
   "name": "python",
   "nbconvert_exporter": "python",
   "pygments_lexer": "ipython3",
   "version": "3.9.12"
  }
 },
 "nbformat": 4,
 "nbformat_minor": 5
}
