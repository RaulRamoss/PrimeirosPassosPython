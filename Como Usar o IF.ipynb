{
 "cells": [
  {
   "cell_type": "markdown",
   "id": "97566f38",
   "metadata": {},
   "source": [
    "### 1 - Exemplo IF e ELSE:\n",
    "\n",
    "Digamos que você trabalha na Amazon (que tem centenas de milhares, se não milhões de produtos) e está analisando o resultado de vendas dos produtos.\n",
    "\n",
    "Você precisa criar um programa que vai analisar o resultado de vendas dos produtos da Amazon em um mês. Para simplificar vamos pensar em um único produto: um Iphone.\n",
    "\n",
    "Meta de Vendas do Iphone = 50.000 unidades\n",
    "Quantidade vendida no Mês = 65.300 unidades\n",
    "\n",
    "O seu programa deve avisar (usaremos o print por enquanto) caso o produto tenha batido a meta do mês. Então devemos fazer:\n",
    "- Caso o produto tenha batido a meta, devemos exibir a mensagem: \"Batemos a meta de vendas de Iphone, vendemos {} unidades\" \n",
    "- Se ele não bateu a meta do mês, devemos exibir a mensagem: \"Infelizmente não batemos a meta, vendemos {} unidades. A meta era de {} unidades\""
   ]
  },
  {
   "cell_type": "code",
   "execution_count": 46,
   "id": "4dcbebd0",
   "metadata": {},
   "outputs": [
    {
     "name": "stdout",
     "output_type": "stream",
     "text": [
      "Batemos a meta de vendas de iphones, vendemos 65300 unidades.\n"
     ]
    }
   ],
   "source": [
    "Meta_Vendas_Iphone = 50000\n",
    "QTDE_Vendas_Iphone = 65300\n",
    "\n",
    "if QTDE_Vendas_Iphone>=Meta_Vendas_Iphone:\n",
    "    print('Batemos a meta de vendas de iphones, vendemos {} unidades.'.format(QTDE_Vendas_Iphone))\n",
    "else:\n",
    "    print('Infelizmente não batemos a meta, vendemos {} unidades. A meta era de {} unidades'.format(QTDE_Vendas_Iphone,Meta_Vendas_Iphone))"
   ]
  },
  {
   "cell_type": "markdown",
   "id": "885d1729",
   "metadata": {},
   "source": [
    "### 2 - Exemplo IF com mais condições\n",
    "\n",
    "Vamos criar um programa para analisar o bônus dos funcionários de uma empresa (pode parecer \"simples\", mas uma empresa como a Amazon tem 900.000 funcionários)\n",
    "\n",
    "Para os cargos de vendedores, a regra do bônus é de acordo com a meta de vendas da pessoa:\n",
    "\n",
    "Se ela vendeu abaixo da meta dela, ela não ganha bônus.\n",
    "\n",
    "Se ela vendeu acima da meta dela, ela ganha como bônus 3% do valor que ela vendeu.\n",
    "\n",
    "Se ela vendeu mais do que o dobro da meta dela, ela ganha como bônus 7% do valor que ela vendeu.\n",
    "\n",
    "Vamos criar um programa para avaliar uma pessoa que tinha como meta de vendas 20.000 reais e calcular o bônus dela de acordo com o valor de vendas que ela tiver."
   ]
  },
  {
   "cell_type": "code",
   "execution_count": 45,
   "id": "0b85b5a3",
   "metadata": {},
   "outputs": [
    {
     "name": "stdout",
     "output_type": "stream",
     "text": [
      "Vai ganhar 3% de bônus.\n",
      "Ganhou 750.0 de bônus.\n"
     ]
    }
   ],
   "source": [
    "meta_vendas = 20000\n",
    "qtde_vendas = 25000\n",
    "\n",
    "if qtde_vendas>=(meta_vendas*2):\n",
    "    print('Vai ganhar 7% de bônus.')\n",
    "    bonus=qtde_vendas*0.07\n",
    "    print('Ganhou {} de bônus.'.format(bonus))\n",
    "elif qtde_vendas>=meta_vendas:\n",
    "    print('Vai ganhar 3% de bônus.')\n",
    "    bonus=qtde_vendas*0.03\n",
    "    print('Ganhou {} de bônus.'.format(bonus))\n",
    "else:\n",
    "    print('Vai ganhar nada de bônus')"
   ]
  },
  {
   "cell_type": "markdown",
   "id": "06b63528",
   "metadata": {},
   "source": [
    "### 3 - Exemplo IF com AND\n",
    "\n",
    "Vamos voltar ao exemplo de cálculo de meta de vendas dos funcionários. Muitas empresas atribuem bonificação do salário dos funcionários de acordo com o resultado do funcionário e também com o resultado da empresa como um todo.\n",
    "\n",
    "Nesse caso, a regra funciona da seguinte forma:\n",
    "- Se o funcionário vendeu mais do que a meta de vendas e a loja bateu a meta de vendas da loja, o funcionário ganha 3% do que ele vendeu em forma de bônus.\n",
    "- Caso o funcionário tenha batido a meta de vendas individual dele, mas a loja não tenha batido a meta de vendas da loja como um todo, o funcionário não ganha bônus."
   ]
  },
  {
   "cell_type": "code",
   "execution_count": null,
   "id": "a1889de2",
   "metadata": {},
   "outputs": [],
   "source": [
    "meta_loja=250000\n",
    "vendas_loja=200000\n",
    "meta_funcionario=10000\n",
    "vendas_funcionario=5000\n",
    "\n",
    "if vendas_funcionario>=meta_funcionario and vendas_loja>=meta_loja:\n",
    "    print('O funcionário e a loja bateram a meta!')\n",
    "    print('O funcionário vai ganhar 3% de bônus.')\n",
    "    bonus=vendas_funcionario*0.03\n",
    "    print('Bônus: {}'.format(bonus))\n",
    "elif vendas_funcionario>=meta_funcionario and vendas_loja<meta_loja:\n",
    "    print('O funcionário bateu a meta, mas a loja não.')\n",
    "    print('O funcionário não receberá bônus.')\n",
    "elif vendas_funcionario<meta_funcionario and vendas_loja>=meta_loja:\n",
    "    print('A loja bateu a meta, mas o funcionário não.')\n",
    "    print('O funcionário não receberá bônus.')\n",
    "else:\n",
    "    print('Nem o funcionário e nem a loja bateram a meta.')\n",
    "    print('O funcionário não receberá bônus.')"
   ]
  },
  {
   "cell_type": "markdown",
   "id": "97e8e5cc",
   "metadata": {},
   "source": [
    "### 4 - Exemplo IF com OR\n",
    "\n",
    "Agora vamos levar essa análise mais a fundo.\n",
    "\n",
    "Nessa empresa, existe um outro caso também que garante que o funcionário ganhe um bônus, independente das vendas que ele fez naquele mês.\n",
    "\n",
    "Todo mês os diretores da empresa fazem uma avaliação qualitativa de todos os funcionários. Nessa avaliação os diretores dão uma nota de 0 a 10 para cada funcionário. Se a nota do funcionário for 9 ou 10, ele também ganha o bônus de 3% do valor de vendas. (os bônus não são cumulativos)"
   ]
  },
  {
   "cell_type": "code",
   "execution_count": 4,
   "id": "825a9fe4",
   "metadata": {},
   "outputs": [
    {
     "name": "stdout",
     "output_type": "stream",
     "text": [
      "O funcionário não obteve a meta de nota (9).\n",
      "A loja e o funcionário não atingiram a meta de vendas.\n",
      "O funcionário não receberá bônus.\n"
     ]
    }
   ],
   "source": [
    "meta_loja=250000\n",
    "vendas_loja=200000\n",
    "meta_funcionario=10000\n",
    "vendas_funcionario=5000\n",
    "nota_funcionario=8\n",
    "meta_nota=9\n",
    "\n",
    "if (vendas_funcionario>=meta_funcionario and vendas_loja>=meta_loja) or nota_funcionario>=meta_nota:\n",
    "    print('O funcionário vai ganhar 3% de bônus.')\n",
    "else:\n",
    "    print('O funcionário não obteve a meta de nota (9).')\n",
    "    print('A loja e o funcionário não atingiram a meta de vendas.')\n",
    "    print('O funcionário não receberá bônus.')"
   ]
  }
 ],
 "metadata": {
  "kernelspec": {
   "display_name": "Python 3 (ipykernel)",
   "language": "python",
   "name": "python3"
  },
  "language_info": {
   "codemirror_mode": {
    "name": "ipython",
    "version": 3
   },
   "file_extension": ".py",
   "mimetype": "text/x-python",
   "name": "python",
   "nbconvert_exporter": "python",
   "pygments_lexer": "ipython3",
   "version": "3.9.12"
  }
 },
 "nbformat": 4,
 "nbformat_minor": 5
}
