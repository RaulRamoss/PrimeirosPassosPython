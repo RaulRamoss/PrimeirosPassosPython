{
 "cells": [
  {
   "cell_type": "markdown",
   "metadata": {},
   "source": [
    "# FOR + IF\n",
    "\n",
    "### Estrutura:"
   ]
  },
  {
   "cell_type": "raw",
   "metadata": {},
   "source": [
    "for item in lista:\n",
    "    if condicao:\n",
    "        faça alguma coisa\n",
    "    else:\n",
    "        outra coisa"
   ]
  },
  {
   "cell_type": "markdown",
   "metadata": {},
   "source": [
    "Digamos que a gente esteja analisando a meta de vendas de vários funcionários de uma empresa. A meta de vendas é de 1000 reais em 1 dia.\n",
    "\n",
    "Temos uma lista com as vendas de todos os funcionários e quero calcular qual o % de pessoas que bateram a meta."
   ]
  },
  {
   "cell_type": "code",
   "execution_count": 18,
   "metadata": {},
   "outputs": [
    {
     "name": "stdout",
     "output_type": "stream",
     "text": [
      "A quantidade de funcionários que atigiram a meta foi: 6\n",
      "Isso representa 26% dos funcionários.\n"
     ]
    }
   ],
   "source": [
    "vendas = [1200, 300, 800, 1500, 1900, 2750, 400, 20, 23, 70, 90, 80, 1100, 999, 900, 880, 870, 50, 1111, 120, 300, 450, 800]\n",
    "meta = 1000\n",
    "contagem=0\n",
    "\n",
    "for venda in vendas:\n",
    "    if venda>=meta:\n",
    "        contagem=contagem+1\n",
    "    else:\n",
    "        pass\n",
    "\n",
    "porcentagem=contagem/len(vendas)\n",
    "\n",
    "print('A quantidade de funcionários que atigiram a meta foi: {}'.format(contagem))\n",
    "print('Isso representa {:.0%} dos funcionários.'.format(porcentagem))"
   ]
  }
 ],
 "metadata": {
  "kernelspec": {
   "display_name": "Python 3 (ipykernel)",
   "language": "python",
   "name": "python3"
  },
  "language_info": {
   "codemirror_mode": {
    "name": "ipython",
    "version": 3
   },
   "file_extension": ".py",
   "mimetype": "text/x-python",
   "name": "python",
   "nbconvert_exporter": "python",
   "pygments_lexer": "ipython3",
   "version": "3.9.12"
  }
 },
 "nbformat": 4,
 "nbformat_minor": 4
}
