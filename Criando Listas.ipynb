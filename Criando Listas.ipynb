{
 "cells": [
  {
   "cell_type": "markdown",
   "id": "636769b6",
   "metadata": {},
   "source": [
    "# Listas em Python\n",
    "\n",
    "## Estrutura:\n",
    "\n",
    "lista = [valor, valor, valor, valor, ...]\n",
    "\n",
    "- Lista é um dos objetos mais importantes de Python, por isso vamos trabalhar bastante neles\n",
    "- Quando importamos uma base de dados para o Python, normalmente ele é lido como uma \"lista\" ou como alguma \"variação de lista\"\n",
    "- Listas em Python foram feitas para serem homogêneas, apesar de aceitarem valores heterogêneos\n",
    "\n",
    "lista[i] -> é o valor de índice i da lista.\n",
    "Obs: Lembre que no python o índice começa em 0, então o primeiro item de uma lista é o item lista[0]\n",
    "\n",
    "Para substituir um valor de uma lista você pode fazer:\n",
    "lista[i] = novo_valor"
   ]
  },
  {
   "cell_type": "code",
   "execution_count": 5,
   "id": "671d7816",
   "metadata": {},
   "outputs": [
    {
     "name": "stdout",
     "output_type": "stream",
     "text": [
      "['tv', 'celular', 'mouse', 'teclado', 'tablet']\n",
      "celular\n"
     ]
    }
   ],
   "source": [
    "# Criando a lista de produtos da loja\n",
    "produtos = ['tv','celular','mouse','teclado','tablet']\n",
    "print(produtos)\n",
    "print(produtos[1])"
   ]
  },
  {
   "cell_type": "code",
   "execution_count": 6,
   "id": "0251aab3",
   "metadata": {},
   "outputs": [
    {
     "name": "stdout",
     "output_type": "stream",
     "text": [
      "[1000, 1500, 350, 270, 900]\n",
      "1500\n"
     ]
    }
   ],
   "source": [
    "# Criando a lista de qtde de vendas da loja\n",
    "vendas=[1000,1500,350,270,900]\n",
    "print(vendas)\n",
    "print(vendas[1])"
   ]
  },
  {
   "cell_type": "code",
   "execution_count": 7,
   "id": "1d245ab5",
   "metadata": {},
   "outputs": [
    {
     "name": "stdout",
     "output_type": "stream",
     "text": [
      "Vendas do produto celular foram de 1500 unidades.\n"
     ]
    }
   ],
   "source": [
    "# Exibindo valores relacionados de uma lista\n",
    "print('Vendas do produto {} foram de {} unidades.'.format(produtos[1],vendas[1]))"
   ]
  },
  {
   "cell_type": "code",
   "execution_count": null,
   "id": "f9fb4c80",
   "metadata": {},
   "outputs": [],
   "source": [
    "# Mudando um valor dentro da lista\n",
    "vendas[3]=300\n",
    "print(vendas)"
   ]
  },
  {
   "cell_type": "code",
   "execution_count": 10,
   "id": "0519570b",
   "metadata": {},
   "outputs": [
    {
     "name": "stdout",
     "output_type": "stream",
     "text": [
      "lara@gmaal.com\n"
     ]
    }
   ],
   "source": [
    "# Mudando valores em uma string - O Python enxerga uma string como uma lista de caracteres\n",
    "texto='lira@gmail.com'\n",
    "novo_texto=texto.replace('i','a')\n",
    "print(novo_texto)"
   ]
  }
 ],
 "metadata": {
  "kernelspec": {
   "display_name": "Python 3 (ipykernel)",
   "language": "python",
   "name": "python3"
  },
  "language_info": {
   "codemirror_mode": {
    "name": "ipython",
    "version": 3
   },
   "file_extension": ".py",
   "mimetype": "text/x-python",
   "name": "python",
   "nbconvert_exporter": "python",
   "pygments_lexer": "ipython3",
   "version": "3.9.12"
  }
 },
 "nbformat": 4,
 "nbformat_minor": 5
}
