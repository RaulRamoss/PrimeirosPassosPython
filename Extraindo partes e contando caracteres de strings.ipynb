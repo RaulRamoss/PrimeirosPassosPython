{
 "cells": [
  {
   "cell_type": "code",
   "execution_count": null,
   "id": "fe0b7ce6",
   "metadata": {},
   "outputs": [],
   "source": [
    "0 1 2 3 4 5 6 7 8 9 10 11 12 13\n",
    "l i r a @ g m a i l  . c  o  m\n",
    "\n",
    "-14 -13 -12 -11 -10 -9 -8 -7 -6 -5 -4 -3 -2 -1\n",
    " l   i   r   a   @   g  m  a  i  l  .  c  o  m\n",
    "\n",
    "Pegar um caractere de uma string: texto[índice]\n",
    "Pegar o tamanho de um texto: len(texto)"
   ]
  },
  {
   "cell_type": "code",
   "execution_count": 21,
   "id": "afdd7846",
   "metadata": {},
   "outputs": [],
   "source": [
    "email = 'lira@gmail.com'\n",
    "nome = 'João Lira'"
   ]
  },
  {
   "cell_type": "code",
   "execution_count": null,
   "id": "d466003d",
   "metadata": {},
   "outputs": [],
   "source": [
    "# Calculando tamanho das strings\n",
    "print('Tamanho do email (em caracteres):',len(email))\n",
    "print('Tamanha do nome (em caracteres):',len(nome))"
   ]
  },
  {
   "cell_type": "code",
   "execution_count": null,
   "id": "5781b325",
   "metadata": {},
   "outputs": [],
   "source": [
    "# Extraindo caracteres específicos das strings\n",
    "print('Caractere selecionado foi:', email[4])\n",
    "print('Caractere selecionado foi:', email[-4])"
   ]
  },
  {
   "cell_type": "code",
   "execution_count": 20,
   "id": "0f93464f",
   "metadata": {},
   "outputs": [
    {
     "name": "stdout",
     "output_type": "stream",
     "text": [
      "@gmail.com\n",
      "ra@gmail.com\n",
      "lira@g\n",
      "lira\n"
     ]
    }
   ],
   "source": [
    "# Extraindo pedaços do texto\n",
    "print(email[4:14])\n",
    "print(email[2:])\n",
    "print(email[:6])\n",
    "print(email[0:-10])"
   ]
  },
  {
   "cell_type": "code",
   "execution_count": 28,
   "id": "2e0f01de",
   "metadata": {},
   "outputs": [
    {
     "name": "stdout",
     "output_type": "stream",
     "text": [
      "Tamanho do email é: 14\n",
      "O primeiro caractere do email é: l\n",
      "O último caractere do email é: m\n",
      "O servidor do email é: gmail\n"
     ]
    }
   ],
   "source": [
    "# Exercício de fixação\n",
    "print('Tamanho do email é:', len(email))\n",
    "print('O primeiro caractere do email é:', email[0])\n",
    "print('O último caractere do email é:', email[-1])\n",
    "print('O servidor do email é:', email[5:10])"
   ]
  }
 ],
 "metadata": {
  "kernelspec": {
   "display_name": "Python 3 (ipykernel)",
   "language": "python",
   "name": "python3"
  },
  "language_info": {
   "codemirror_mode": {
    "name": "ipython",
    "version": 3
   },
   "file_extension": ".py",
   "mimetype": "text/x-python",
   "name": "python",
   "nbconvert_exporter": "python",
   "pygments_lexer": "ipython3",
   "version": "3.9.12"
  }
 },
 "nbformat": 4,
 "nbformat_minor": 5
}
